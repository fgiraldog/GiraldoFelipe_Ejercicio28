{
 "cells": [
  {
   "cell_type": "code",
   "execution_count": 138,
   "metadata": {},
   "outputs": [],
   "source": [
    "import numpy as np\n",
    "import matplotlib.pyplot as plt\n",
    "import sklearn.datasets\n",
    "import sklearn.cluster\n",
    "import sklearn.preprocessing\n",
    "import sklearn.neural_network\n",
    "import sklearn.linear_model\n",
    "import sklearn.model_selection\n",
    "import torch\n",
    "import torchvision\n",
    "import torchvision.datasets\n",
    "import torchvision.models\n",
    "import torchvision.transforms"
   ]
  },
  {
   "cell_type": "code",
   "execution_count": 139,
   "metadata": {},
   "outputs": [],
   "source": [
    "training = torchvision.datasets.FashionMNIST(root=\"./\", train=True, download=True)\n",
    "train_loader = torch.utils.data.DataLoader(training,shuffle=True)\n",
    "\n",
    "testing = torchvision.datasets.FashionMNIST(root=\"./\", train=False, download=True, \n",
    "                                            transform=torchvision.transforms.Normalize((0), (1.0)))\n",
    "testing_loader = torch.utils.data.DataLoader(testing, shuffle=True)"
   ]
  },
  {
   "cell_type": "code",
   "execution_count": 140,
   "metadata": {},
   "outputs": [
    {
     "name": "stdout",
     "output_type": "stream",
     "text": [
      "torch.Size([60000, 28, 28])\n",
      "['T-shirt/top', 'Trouser', 'Pullover', 'Dress', 'Coat', 'Sandal', 'Shirt', 'Sneaker', 'Bag', 'Ankle boot']\n"
     ]
    }
   ],
   "source": [
    "print(train_loader.dataset.data.size())\n",
    "print(train_loader.dataset.classes)"
   ]
  },
  {
   "cell_type": "code",
   "execution_count": 141,
   "metadata": {},
   "outputs": [
    {
     "data": {
      "image/png": "[encoded data removed]",
      "text/plain": [
       "<Figure size 1008x360 with 5 Axes>"
      ]
     },
     "metadata": {
      "needs_background": "light"
     },
     "output_type": "display_data"
    }
   ],
   "source": [
    "n_items = train_loader.dataset.data.size()[0]\n",
    "random_items = np.random.choice(np.arange(n_items), 5)\n",
    "\n",
    "plt.figure(figsize=(14,5))\n",
    "for i in range(5):\n",
    "    plt.subplot(1,5,i+1)\n",
    "    item  = random_items[i]\n",
    "    plt.imshow(train_loader.dataset.data[item])\n",
    "    plt.title(train_loader.dataset.classes[train_loader.dataset.targets[item]] )"
   ]
  },
  {
   "cell_type": "code",
   "execution_count": 142,
   "metadata": {},
   "outputs": [
    {
     "name": "stdout",
     "output_type": "stream",
     "text": [
      "torch.Size([600, 28, 28])\n"
     ]
    }
   ],
   "source": [
    "train  = train_loader.dataset.data[:600].float()\n",
    "y_train = train_loader.dataset.targets[:600].float()\n",
    "\n",
    "test  = train_loader.dataset.data[600:1200].float()\n",
    "y_test = train_loader.dataset.targets[600:1200].float()\n",
    "\n",
    "mean = train.mean(dim=0)\n",
    "std = train.std(dim=0)\n",
    "std[std==0]=1.0\n",
    "\n",
    "for i in range(len(train)):\n",
    "    train[i] = (train[i]-mean)/std\n",
    "\n",
    "mean = test.mean(dim=0)\n",
    "std = test.std(dim=0)\n",
    "std[std==0]=1.0\n",
    "\n",
    "for i in range(len(test)):\n",
    "    test[i] = (test[i]-mean)/std\n",
    "\n",
    "print(np.shape(train))"
   ]
  },
  {
   "cell_type": "code",
   "execution_count": 143,
   "metadata": {},
   "outputs": [
    {
     "name": "stdout",
     "output_type": "stream",
     "text": [
      "torch.Size([600, 1, 28, 28])\n",
      "torch.Size([600])\n",
      "torch.Size([600, 1, 28, 28])\n",
      "torch.Size([600])\n"
     ]
    }
   ],
   "source": [
    "x_train = train.unsqueeze(1)\n",
    "x_test = test.unsqueeze(1)\n",
    "print(np.shape(x_train))\n",
    "print(np.shape(y_train))\n",
    "print(np.shape(x_test))\n",
    "print(np.shape(y_test))"
   ]
  },
  {
   "cell_type": "code",
   "execution_count": 144,
   "metadata": {},
   "outputs": [
    {
     "name": "stdout",
     "output_type": "stream",
     "text": [
      "torch.Size([600, 4, 25, 25])\n",
      "torch.Size([600, 4, 12, 12])\n",
      "torch.Size([600, 16, 9, 9])\n",
      "torch.Size([600, 16, 3, 3])\n",
      "torch.Size([600, 144])\n",
      "torch.Size([600, 10])\n"
     ]
    }
   ],
   "source": [
    "n = torch.nn.Conv2d(1,4,4) # in-channels = 1, out-channels = 4, kernel=4\n",
    "new_tensor = n(x_train)\n",
    "print(new_tensor.size())\n",
    "\n",
    "n = torch.nn.MaxPool2d(2)\n",
    "new_tensor = n(new_tensor)\n",
    "print(new_tensor.size())\n",
    "\n",
    "n = torch.nn.Conv2d(4,16,4)\n",
    "new_tensor = n(new_tensor)\n",
    "print(new_tensor.size())\n",
    "\n",
    "n = torch.nn.MaxPool2d(3)\n",
    "new_tensor = n(new_tensor)\n",
    "print(new_tensor.size())\n",
    "\n",
    "new_tensor = new_tensor.view(-1, 16*3*3)\n",
    "print(new_tensor.size())\n",
    "\n",
    "n = torch.nn.Linear(16*3*3,10)\n",
    "new_tensor = n(new_tensor)\n",
    "print(new_tensor.size())"
   ]
  },
  {
   "cell_type": "code",
   "execution_count": 145,
   "metadata": {},
   "outputs": [
    {
     "name": "stdout",
     "output_type": "stream",
     "text": [
      "torch.Size([600, 10])\n"
     ]
    }
   ],
   "source": [
    "model = torch.nn.Sequential(\n",
    "    torch.nn.Conv2d(1,4,4),\n",
    "    torch.nn.MaxPool2d(2),\n",
    "    torch.nn.Conv2d(4,16,4),\n",
    "    torch.nn.MaxPool2d(3),\n",
    "    torch.nn.Flatten(1,-1),\n",
    "    torch.nn.Linear(16*3*3,10)\n",
    ")\n",
    "\n",
    "out = model(x_train)\n",
    "print(out.size())\n"
   ]
  },
  {
   "cell_type": "code",
   "execution_count": 146,
   "metadata": {},
   "outputs": [],
   "source": [
    "criterion = torch.nn.CrossEntropyLoss()\n",
    "optimizer = torch.optim.SGD(model.parameters(), lr=0.01) #lr: learning rate\n",
    "epochs = 150\n",
    "loss_arr = np.zeros(epochs)\n",
    "f1_train = np.zeros(epochs)\n",
    "f1_test = np.zeros(epochs)\n",
    "\n",
    "for epoch in range(epochs):\n",
    "    inputs = torch.autograd.Variable(torch.Tensor(x_train).float())\n",
    "    targets = torch.autograd.Variable(torch.Tensor(y_train).long())\n",
    "    \n",
    "    optimizer.zero_grad()\n",
    "    out = model(inputs)\n",
    "    out.squeeze(dim=1)\n",
    "    loss = criterion(out, targets)\n",
    "    loss.backward()\n",
    "    optimizer.step()\n",
    "    \n",
    "    values, y_predicted = torch.max(out.data, 1)\n",
    "    loss_arr[epoch] = loss.item()\n",
    "    f1_train[epoch] = sklearn.metrics.f1_score(y_train, y_predicted, average='macro')\n",
    "    \n",
    "    inputs_test = torch.autograd.Variable(torch.Tensor(x_test).float())\n",
    "    out_test = model(inputs_test)\n",
    "    out_test = out_test.squeeze(dim=1)\n",
    "    values, y_predt = torch.max(out_test.data, 1)\n",
    "    f1_test[epoch] = sklearn.metrics.f1_score(y_test, y_predt, average='macro')"
   ]
  },
  {
   "cell_type": "code",
   "execution_count": 147,
   "metadata": {},
   "outputs": [
    {
     "data": {
      "image/png": "[encoded data removed]",
      "text/plain": [
       "<Figure size 720x288 with 2 Axes>"
      ]
     },
     "metadata": {
      "needs_background": "light"
     },
     "output_type": "display_data"
    }
   ],
   "source": [
    "plt.figure(figsize = (10,4))\n",
    "\n",
    "plt.subplot(121)\n",
    "plt.plot(np.arange(epochs), loss_arr)\n",
    "plt.xlabel('epoch')\n",
    "plt.ylabel('loss')\n",
    "\n",
    "plt.subplot(122)\n",
    "plt.plot(np.arange(epochs), f1_train, label='train')\n",
    "plt.plot(np.arange(epochs), f1_test, label='test')\n",
    "plt.xlabel('epoch')\n",
    "plt.ylabel('F1')\n",
    "plt.legend()\n",
    "\n",
    "plt.tight_layout()"
   ]
  },
  {
   "cell_type": "code",
   "execution_count": null,
   "metadata": {},
   "outputs": [],
   "source": []
  }
 ],
 "metadata": {
  "kernelspec": {
   "display_name": "Python 3",
   "language": "python",
   "name": "python3"
  },
  "language_info": {
   "codemirror_mode": {
    "name": "ipython",
    "version": 3
   },
   "file_extension": ".py",
   "mimetype": "text/x-python",
   "name": "python",
   "nbconvert_exporter": "python",
   "pygments_lexer": "ipython3",
   "version": "3.7.4"
  }
 },
 "nbformat": 4,
 "nbformat_minor": 2
}
